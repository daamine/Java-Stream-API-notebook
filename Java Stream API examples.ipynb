{
 "cells": [
  {
   "cell_type": "markdown",
   "id": "2e0a0f41",
   "metadata": {},
   "source": [
    "# Stream API in Java with examples:\n",
    "\n",
    "Stream API is Java was introduced in java 8 and it's providing functional programming in java.\n",
    "A Stream is a sequence of of elements supporting sequential and parallel aggregate operations.\n",
    "A Stream doesn't store the data and doesn't change the initial collection on which it operates.\n",
    "But, the stream is processed only when a terminal operation is invoked such as count or collect.\n",
    "## map\n",
    "Let's start with first example of stream:\n",
    "map returns new Stream with applying a function to each element of the stream.\n",
    "In the below example, we want to transform words in uppercase.\n",
    "collect is used as a terminal operation to indicate the structure that should be returned. (in this case a list)"
   ]
  },
  {
   "cell_type": "code",
   "execution_count": 58,
   "id": "0d586503",
   "metadata": {},
   "outputs": [
    {
     "name": "stdout",
     "output_type": "stream",
     "text": [
      "[DOG, RABBIT, CAT, MOUSE, BIRD]\n"
     ]
    }
   ],
   "source": [
    "import static java.util.stream.Collectors.*;\n",
    "\n",
    "List<String> animals = List.of(\"Dog\", \"Rabbit\", \"Cat\", \"Mouse\", \"Bird\");\n",
    "System.out.println(animals.stream().map(String::toUpperCase).collect(Collectors.toList()));"
   ]
  },
  {
   "cell_type": "markdown",
   "id": "c3109976",
   "metadata": {},
   "source": [
    "We can also collect to a set or concatenate the list elements like below."
   ]
  },
  {
   "cell_type": "code",
   "execution_count": 59,
   "id": "313c7dab",
   "metadata": {},
   "outputs": [
    {
     "name": "stdout",
     "output_type": "stream",
     "text": [
      "DOG|RABBIT|CAT|MOUSE|BIRD\n"
     ]
    }
   ],
   "source": [
    "System.out.println(animals.stream().map(String::toUpperCase).collect(joining(\"|\")));"
   ]
  },
  {
   "cell_type": "markdown",
   "id": "d6ae7c19",
   "metadata": {},
   "source": [
    "# forEach\n",
    "Use forEach to iterate over the elements of a stream and apply a function for each element.\n",
    "In the below case, we want to print each element in the stream:"
   ]
  },
  {
   "cell_type": "code",
   "execution_count": 60,
   "id": "4b1e9f02",
   "metadata": {
    "scrolled": true
   },
   "outputs": [
    {
     "name": "stdout",
     "output_type": "stream",
     "text": [
      "house\n",
      "car\n",
      "laptop\n"
     ]
    }
   ],
   "source": [
    "import java.util.stream.Stream;\n",
    "Stream<String> st = Stream.of(\"house\", \"car\", \"laptop\");\n",
    "st.forEach(System.out::println);"
   ]
  },
  {
   "cell_type": "markdown",
   "id": "829e40d2",
   "metadata": {},
   "source": [
    "## mapToInt\n",
    "we can use mapToInt to map a stream to primitive int values, we invoke then a terminal operation sum to calculate the sum of the elements."
   ]
  },
  {
   "cell_type": "code",
   "execution_count": 75,
   "id": "646aee9e",
   "metadata": {},
   "outputs": [
    {
     "data": {
      "text/plain": [
       "6"
      ]
     },
     "execution_count": 75,
     "metadata": {},
     "output_type": "execute_result"
    }
   ],
   "source": [
    "Stream<String> st = Stream.of(\"1\", \"2\", \"3\");\n",
    "st.mapToInt(Integer::parseInt).sum();"
   ]
  },
  {
   "cell_type": "markdown",
   "id": "a337ff23",
   "metadata": {},
   "source": [
    "## sorted\n",
    "we can use sorted to arrange the order of stream elements following a provided comparator.\n",
    "For example, we want to sort the words following the ascendant order which is using  Comparator#reverseOrder."
   ]
  },
  {
   "cell_type": "code",
   "execution_count": 62,
   "id": "bc88ca98",
   "metadata": {},
   "outputs": [
    {
     "name": "stdout",
     "output_type": "stream",
     "text": [
      "[laptop, house, car]\n"
     ]
    }
   ],
   "source": [
    "Stream<String> st = Stream.of(\"house\", \"car\", \"laptop\");\n",
    "System.out.println(st.sorted(Comparator.reverseOrder()).collect(Collectors.toList()));"
   ]
  },
  {
   "cell_type": "markdown",
   "id": "cf32f598",
   "metadata": {},
   "source": [
    "## filter\n",
    "filter allows to select a subset of elements matching a condition.\n",
    "In the below example, we want to select only strings starting with letter c:"
   ]
  },
  {
   "cell_type": "code",
   "execution_count": 63,
   "id": "9aab39f2",
   "metadata": {},
   "outputs": [
    {
     "name": "stdout",
     "output_type": "stream",
     "text": [
      "[car]\n"
     ]
    }
   ],
   "source": [
    "Stream<String> st = Stream.of(\"house\", \"car\", \"laptop\");\n",
    "System.out.println(st.filter(str -> str.startsWith(\"c\")).collect(Collectors.toList()));"
   ]
  },
  {
   "cell_type": "markdown",
   "id": "e565b691",
   "metadata": {},
   "source": [
    "## reduce\n",
    "Reduce is a terminal operation, it allow us reduce multiple elements to one result following a reduction function like concatenating strings or adding integers...\n"
   ]
  },
  {
   "cell_type": "code",
   "execution_count": 64,
   "id": "3c0136d8",
   "metadata": {},
   "outputs": [
    {
     "name": "stdout",
     "output_type": "stream",
     "text": [
      "Optional[house, car, laptop]\n"
     ]
    }
   ],
   "source": [
    "Stream<String> st = Stream.of(\"house\", \"car\", \"laptop\");\n",
    "System.out.println(st.reduce((e1, e2) -> e1 + \", \" + e2));"
   ]
  },
  {
   "cell_type": "markdown",
   "id": "36001707",
   "metadata": {},
   "source": [
    "## distinct, limit , skip , min , max\n",
    "distinct allows to return distinct elements of the list by comparing elements list using equals and removing duplicates.\n",
    "Using limit, as the name suggests you can limit the results the the first n elements of the stream.\n",
    "skip will let you skip n first elements from the stream and display the remaining elements.\n",
    "min and max are terminal operations which allows to find the min and max values in a stream using a comparator."
   ]
  },
  {
   "cell_type": "code",
   "execution_count": 65,
   "id": "1f651768",
   "metadata": {},
   "outputs": [
    {
     "name": "stdout",
     "output_type": "stream",
     "text": [
      "[2, 34, 5, 7, 17]\n",
      "[2, 34]\n",
      "[7, 7, 34, 17]\n",
      "Optional[34]\n",
      "Optional[34]\n"
     ]
    }
   ],
   "source": [
    "List<Integer> ints = List.of(2, 34,2, 5 , 7, 7, 7, 34, 17);\n",
    "\n",
    "System.out.println(ints.stream().distinct().collect(toList()));\n",
    "System.out.println(ints.stream().limit(2).collect(toList()));\n",
    "System.out.println(ints.stream().skip(5).collect(toList()));\n",
    "System.out.println(ints.stream().min(Comparator.reverseOrder()));\n",
    "System.out.println(ints.stream().max(Comparator.naturalOrder()));"
   ]
  },
  {
   "cell_type": "markdown",
   "id": "f08f72a3",
   "metadata": {},
   "source": [
    "## flatMap\n",
    "\n",
    "flatMap is useful when we operate on list of lists and want to access all the elements by flattening all the lists.\n",
    "In the below eaxmple, let's consider a list of a list of integers. \n",
    "We want to find all the integers that are greater than 3 so we transform the listOfLists to stream and use flatMap method then filter using the condition. \n"
   ]
  },
  {
   "cell_type": "code",
   "execution_count": 66,
   "id": "d0293c5d",
   "metadata": {},
   "outputs": [
    {
     "name": "stdout",
     "output_type": "stream",
     "text": [
      "[4, 5, 6]\n"
     ]
    }
   ],
   "source": [
    "List<List<String>> listOfLists = List.of(List.of(\"1\", \"2\"), List.of(\"3\", \"4\"), List.of(\"5\", \"6\"));\n",
    "System.out.println(listOfLists.stream().flatMap(Collection::stream).filter(x-> Integer.parseInt(x) > 3).collect(Collectors.toList()));\n"
   ]
  },
  {
   "cell_type": "markdown",
   "id": "36d9dc3b",
   "metadata": {},
   "source": [
    "## allMatch, anyMatch, noneMatch\n",
    "allMatch returns true if all elements in stream match a condition\n",
    "anyMatch returns true if at least one element in stream match a condition\n",
    "noneMatch returns true if all elements in the stream do not match the condition\n"
   ]
  },
  {
   "cell_type": "code",
   "execution_count": 67,
   "id": "a85b0d9b",
   "metadata": {},
   "outputs": [
    {
     "name": "stdout",
     "output_type": "stream",
     "text": [
      "true\n",
      "false\n",
      "false\n"
     ]
    }
   ],
   "source": [
    "List<Integer> ints = List.of(2, 34,2, 5 , 7, 7, 7, 34, 17);\n",
    "\n",
    "System.out.println(ints.stream().allMatch(x -> x>1));\n",
    "System.out.println(ints.stream().anyMatch(x -> x==1));\n",
    "System.out.println(ints.stream().noneMatch(x -> x==17));\n"
   ]
  },
  {
   "cell_type": "markdown",
   "id": "dd7d6292",
   "metadata": {},
   "source": [
    "## peek\n",
    "peek is an intermediate operation it's usually used to debug the elements of the stream during intermediate operations. "
   ]
  },
  {
   "cell_type": "code",
   "execution_count": 68,
   "id": "1406dc3f",
   "metadata": {},
   "outputs": [
    {
     "name": "stdout",
     "output_type": "stream",
     "text": [
      "Filtered value: three\n",
      "Mapped value: THREE\n",
      "Filtered value: four\n",
      "Mapped value: FOUR\n"
     ]
    },
    {
     "data": {
      "text/plain": [
       "[THREE, FOUR]"
      ]
     },
     "execution_count": 68,
     "metadata": {},
     "output_type": "execute_result"
    }
   ],
   "source": [
    "Stream.of(\"one\", \"two\", \"three\", \"four\")\n",
    "  .filter(e -> e.length() > 3)\n",
    "  .peek(e -> System.out.println(\"Filtered value: \" + e))\n",
    "  .map(String::toUpperCase)\n",
    "  .peek(e -> System.out.println(\"Mapped value: \" + e))\n",
    "  .collect(Collectors.toList());\n"
   ]
  },
  {
   "cell_type": "markdown",
   "id": "4722b4ae",
   "metadata": {},
   "source": [
    "## Collect using groupingBy\n",
    "GroupingBy is useful when we want to group the elements of the stream using a property.\n",
    "In this example, we want to group the words by their frequency and return a frequency list corresponding the words in the natural order. \n"
   ]
  },
  {
   "cell_type": "code",
   "execution_count": 69,
   "id": "af9e3cc5",
   "metadata": {},
   "outputs": [
    {
     "name": "stdout",
     "output_type": "stream",
     "text": [
      "{car=1, cat=2, dog=1, hello=3}\n",
      "[1, 2, 1, 3]\n"
     ]
    }
   ],
   "source": [
    "import java.util.function.Function;\n",
    "\n",
    "List<String> words = Arrays.asList(\"dog\", \"cat\", \"hello\", \"cat\", \"car\", \"hello\", \"hello\");\n",
    "Map<String, Long> res = words.stream().sorted().collect(\n",
    "                  Collectors.groupingBy(Function.identity(), LinkedHashMap::new, Collectors.counting()));\n",
    "System.out.println(res);\n",
    "System.out.println(res.values());\n"
   ]
  },
  {
   "cell_type": "markdown",
   "id": "e4ada0a7",
   "metadata": {},
   "source": [
    "## Collect using partioningBy"
   ]
  },
  {
   "cell_type": "code",
   "execution_count": 70,
   "id": "9669bae8",
   "metadata": {},
   "outputs": [
    {
     "name": "stdout",
     "output_type": "stream",
     "text": [
      "{false=[cat, fish, carl, fur], true=[dog]}\n"
     ]
    }
   ],
   "source": [
    "List<String> st = List.of(\"cat\", \"fish\", \"dog\", \"carl\", \"fur\");\n",
    "System.out.println(st.stream().collect(partitioningBy(str-> str.startsWith(\"d\"))));\n"
   ]
  },
  {
   "cell_type": "markdown",
   "id": "cbb76f2c",
   "metadata": {},
   "source": [
    "## mapping\n",
    "collect toList and use a mapping on each element while collecting.\n",
    "In the below, example, we add 1 to each element when collecting the terminal result."
   ]
  },
  {
   "cell_type": "code",
   "execution_count": 71,
   "id": "4cc7046f",
   "metadata": {},
   "outputs": [
    {
     "name": "stdout",
     "output_type": "stream",
     "text": [
      "[35, 8, 6, 3]\n"
     ]
    }
   ],
   "source": [
    "List<Integer> ints = List.of(2, 34, 5 , 7);\n",
    "System.out.println(ints.stream().sorted(Comparator.reverseOrder()).collect(Collectors.mapping(x-> x+1, Collectors.toList())));\n"
   ]
  },
  {
   "cell_type": "markdown",
   "id": "6f764998",
   "metadata": {},
   "source": [
    "## reducing"
   ]
  },
  {
   "cell_type": "code",
   "execution_count": 72,
   "id": "84823dc3",
   "metadata": {},
   "outputs": [
    {
     "name": "stdout",
     "output_type": "stream",
     "text": [
      "I have a turtle and a dog and a cat\n"
     ]
    }
   ],
   "source": [
    "List<String> myAnimals = List.of(\"cat\", \"dog\", \"turtle\");\n",
    "System.out.println(\"I have a \" + myAnimals.stream().sorted(Comparator.reverseOrder()).collect(Collectors.reducing((e1, e2)-> e1 + \" and a \" + e2)).get());\n"
   ]
  },
  {
   "cell_type": "markdown",
   "id": "4c8bdde2",
   "metadata": {},
   "source": [
    "## averagingInt, SummingInt"
   ]
  },
  {
   "cell_type": "code",
   "execution_count": 73,
   "id": "0b7db96c",
   "metadata": {},
   "outputs": [
    {
     "name": "stdout",
     "output_type": "stream",
     "text": [
      "Sum: 15\n"
     ]
    }
   ],
   "source": [
    "List<Integer> numbers = Arrays.asList(1, 2, 3, 4, 5);\n",
    "Integer sum = numbers.stream().collect(Collectors.summingInt(Integer::intValue));\n",
    "System.out.println(\"Sum: \" + sum);\n"
   ]
  },
  {
   "cell_type": "code",
   "execution_count": 74,
   "id": "5c060e4a",
   "metadata": {},
   "outputs": [
    {
     "name": "stdout",
     "output_type": "stream",
     "text": [
      "4.0"
     ]
    }
   ],
   "source": [
    "Stream<String> s = Stream.of(\"3\", \"4\", \"5\");\n",
    "System.out.print(s.collect(Collectors.averagingInt(num -> Integer.parseInt(num))));"
   ]
  }
 ],
 "metadata": {
  "kernelspec": {
   "display_name": "Java",
   "language": "java",
   "name": "java"
  },
  "language_info": {
   "codemirror_mode": "java",
   "file_extension": ".jshell",
   "mimetype": "text/x-java-source",
   "name": "Java",
   "pygments_lexer": "java",
   "version": "11.0.13+10-LTS-370"
  }
 },
 "nbformat": 4,
 "nbformat_minor": 5
}
